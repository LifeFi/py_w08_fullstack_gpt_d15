{
 "cells": [
  {
   "cell_type": "code",
   "execution_count": 143,
   "metadata": {},
   "outputs": [
    {
     "name": "stdout",
     "output_type": "stream",
     "text": [
      "Title: Star Wars\n",
      "Director: George Lucas\n",
      "Main Cast: Mark Hamill (Luke Skywalker), Carrie Fisher (Princess Leia), Harrison Ford (Han Solo)\n",
      "Budget: $11 million\n",
      "Box Office: $775.8 million\n",
      "Genre: Science Fiction, Action\n",
      "Synopsis: Star Wars, also known as Star Wars: Episode IV - A New Hope, is a classic science fiction film that follows the journey of Luke Skywalker, a young farm boy who discovers his destiny as a Jedi Knight and joins the Rebel Alliance to fight against the evil Galactic Empire. Along with Princess Leia, Han Solo, and other iconic characters, Luke embarks on a quest to rescue Princess Leia, defeat the Empire, and restore peace to the galaxy. The film is known for its groundbreaking special effects, memorable characters, and epic space battles. Star Wars has become a cultural phenomenon and has spawned a successful franchise with sequels, prequels, spin-offs, and merchandise."
     ]
    },
    {
     "data": {
      "text/plain": [
       "AIMessageChunk(content='Title: Star Wars\\nDirector: George Lucas\\nMain Cast: Mark Hamill (Luke Skywalker), Carrie Fisher (Princess Leia), Harrison Ford (Han Solo)\\nBudget: $11 million\\nBox Office: $775.8 million\\nGenre: Science Fiction, Action\\nSynopsis: Star Wars, also known as Star Wars: Episode IV - A New Hope, is a classic science fiction film that follows the journey of Luke Skywalker, a young farm boy who discovers his destiny as a Jedi Knight and joins the Rebel Alliance to fight against the evil Galactic Empire. Along with Princess Leia, Han Solo, and other iconic characters, Luke embarks on a quest to rescue Princess Leia, defeat the Empire, and restore peace to the galaxy. The film is known for its groundbreaking special effects, memorable characters, and epic space battles. Star Wars has become a cultural phenomenon and has spawned a successful franchise with sequels, prequels, spin-offs, and merchandise.')"
      ]
     },
     "execution_count": 143,
     "metadata": {},
     "output_type": "execute_result"
    }
   ],
   "source": [
    "from langchain.chat_models import ChatOpenAI\n",
    "from langchain.schema import BaseOutputParser\n",
    "from langchain.prompts import ChatPromptTemplate\n",
    "from langchain.prompts import PromptTemplate\n",
    "from langchain.prompts.few_shot import FewShotChatMessagePromptTemplate\n",
    "from langchain.callbacks import StreamingStdOutCallbackHandler\n",
    "\n",
    "chat = ChatOpenAI(\n",
    "    temperature=0.2,\n",
    "    streaming=True,\n",
    "    callbacks=[\n",
    "        StreamingStdOutCallbackHandler(),\n",
    "    ],\n",
    ")\n",
    "\n",
    "examples = [\n",
    "    {\n",
    "        \"movie\": \"DUNE Part 2\",\n",
    "        \"answer\": \"\"\"\n",
    "        제목 : 듄: 파트2\n",
    "        감독: 드니 빌뇌브\n",
    "        주요 출연진: 디모시 샬라메(폴 역), 젠데이아 콜먼(챠니 역)\n",
    "        예산: 10억 달러\n",
    "        흥행 수익: 10억 달러\n",
    "        장르: 액션\n",
    "        시놉시스: 황제의 모략으로 멸문한 가문의 유일한 후계자 폴.(티모시 샬라메)\n",
    "        어머니 레이디 제시카(레베카 퍼거슨)와 간신히 목숨만 부지한 채 사막으로 도망친다.\n",
    "        그곳에서 만난 반란군들과 숨어 지내다 그들과 함께 황제의 모든 것을 파괴할 전투를 준비한다.\n",
    "        한편 반란군들의 기세가 높아질수록 불안해진 황제와 귀족 가문은 잔혹한 암살자 페이드 로타(오스틴 버틀러)를 보내 반란군을 몰살하려 하는데…\n",
    "        운명의 반격이 시작된다!\n",
    "        \"\"\",\n",
    "    },\n",
    "    {\n",
    "        \"movie\": \"파묘\",\n",
    "        \"answer\": \"\"\"\n",
    "        제목: 파묘\n",
    "        감독: 징제햔\n",
    "        주요 출연진: 최민식(김상덕 역), 김고은(이화림 역), 유해진(고영근 역), 이도현(윤봉길 역)\n",
    "        예산: 10억 달러\n",
    "        흥행 수익: 10억 달러\n",
    "        장르: 미스터리\n",
    "        시놉시스: 미국 LA, 거액의 의뢰를 받은 무당 ‘화림’(김고은)과 ‘봉길’(이도현)은 기이한 병이 대물림되는 집안의 장손을 만난다.\n",
    "        조상의 묫자리가 화근임을 알아챈 ‘화림’은 이장을 권하고, 돈 냄새를 맡은 최고의 풍수사 ‘상덕’(최민식)과 장의사 ‘영근’(유해진)이 합류한다.\n",
    "        “전부 잘 알 거야… 묘 하나 잘못 건들면 어떻게 되는지” 절대 사람이 묻힐 수 없는 악지에 자리한 기이한 묘.\n",
    "        ‘상덕’은 불길한 기운을 느끼고 제안을 거절하지만, ‘화림’의 설득으로 결국 파묘가 시작되고… 나와서는 안될 것이 나왔다.\n",
    "        \"\"\",\n",
    "    },\n",
    "]\n",
    "\n",
    "# example_prompt = PromptTemplate.from_template(\n",
    "#     \"\"\"\n",
    "#     Human: {question}\n",
    "#     AI: {answer}\n",
    "#     \"\"\"\n",
    "# )\n",
    "\n",
    "example_prompt = ChatPromptTemplate.from_messages(\n",
    "    [\n",
    "        (\"human\", \"Let me know about the movie, {movie}\"),\n",
    "        (\"ai\", \"{answer}\"),\n",
    "    ]\n",
    ")\n",
    "\n",
    "example_prompt = FewShotChatMessagePromptTemplate(\n",
    "    examples=examples,\n",
    "    example_prompt=example_prompt,\n",
    ")\n",
    "\n",
    "final_prompt = ChatPromptTemplate.from_messages(\n",
    "    [\n",
    "        example_prompt,\n",
    "        (\"human\", \"Let me know about the movie, {movie}\"),\n",
    "    ]\n",
    ")\n",
    "\n",
    "\n",
    "chain = final_prompt | chat\n",
    "\n",
    "chain.invoke({\"movie\": \"스타워즈\"})"
   ]
  },
  {
   "cell_type": "code",
   "execution_count": null,
   "metadata": {},
   "outputs": [],
   "source": []
  },
  {
   "cell_type": "markdown",
   "metadata": {},
   "source": []
  },
  {
   "cell_type": "code",
   "execution_count": null,
   "metadata": {},
   "outputs": [],
   "source": []
  }
 ],
 "metadata": {
  "kernelspec": {
   "display_name": "env",
   "language": "python",
   "name": "python3"
  },
  "language_info": {
   "codemirror_mode": {
    "name": "ipython",
    "version": 3
   },
   "file_extension": ".py",
   "mimetype": "text/x-python",
   "name": "python",
   "nbconvert_exporter": "python",
   "pygments_lexer": "ipython3",
   "version": "3.11.6"
  }
 },
 "nbformat": 4,
 "nbformat_minor": 2
}
