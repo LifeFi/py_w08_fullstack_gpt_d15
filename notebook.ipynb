{
 "cells": [
  {
   "cell_type": "code",
   "execution_count": 68,
   "metadata": {},
   "outputs": [],
   "source": [
    "from langchain.chat_models import ChatOpenAI\n",
    "from langchain.prompts import ChatPromptTemplate\n",
    "from langchain.callbacks import StreamingStdOutCallbackHandler\n",
    "\n",
    "chat = ChatOpenAI(\n",
    "    temperature=0.1,\n",
    "    streaming=True,\n",
    "    callbacks=[\n",
    "        StreamingStdOutCallbackHandler(),\n",
    "    ],\n",
    ")\n",
    "\n",
    "haikus_prompt = ChatPromptTemplate.from_messages(\n",
    "    [\n",
    "        (\n",
    "            \"system\",\n",
    "            \"You are a super genius programmer and an artist\",\n",
    "        ),\n",
    "        (\"human\", \"I want haikus about {language} programming languages in Korean\"),\n",
    "    ]\n",
    ")\n",
    "\n",
    "haikus_chain = haikus_prompt | chat"
   ]
  },
  {
   "cell_type": "code",
   "execution_count": 78,
   "metadata": {},
   "outputs": [
    {
     "name": "stdout",
     "output_type": "stream",
     "text": [
      "경상도 말투\n",
      "파이썬 코딩 능력\n",
      "예술처럼 빛나\n",
      "\n",
      "코드로 그려낸\n",
      "경상도 풍경 속에\n",
      "파이썬 미학\n",
      "\n",
      "뛰어난 두뇌\n",
      "파이썬 예술로\n",
      "경상도 표현이 시는 프로그래밍 언어인 파이썬에 대한 찬사를 담은 것으로 보입니다. 파이썬이 마치 예술처럼 빛나며, 코드를 통해 경상도의 풍경을 그려내고 파이썬의 미학을 표현한다는 내용이 담겨 있습니다. 또한, 뛰어난 두뇌가 파이썬을 통해 예술적으로 경상도를 표현한다는 아름다운 메시지가 전해지는 시인 것 같습니다. 파이썬의 강점과 아름다움을 잘 담아낸 시라고 할 수 있습니다."
     ]
    },
    {
     "data": {
      "text/plain": [
       "AIMessageChunk(content='이 시는 프로그래밍 언어인 파이썬에 대한 찬사를 담은 것으로 보입니다. 파이썬이 마치 예술처럼 빛나며, 코드를 통해 경상도의 풍경을 그려내고 파이썬의 미학을 표현한다는 내용이 담겨 있습니다. 또한, 뛰어난 두뇌가 파이썬을 통해 예술적으로 경상도를 표현한다는 아름다운 메시지가 전해지는 시인 것 같습니다. 파이썬의 강점과 아름다움을 잘 담아낸 시라고 할 수 있습니다.')"
      ]
     },
     "execution_count": 78,
     "metadata": {},
     "output_type": "execute_result"
    }
   ],
   "source": [
    "commentator_prompt = ChatPromptTemplate.from_messages(\n",
    "    [\n",
    "        (\n",
    "            \"system\",\n",
    "            \"You are a commentator for haikus and literature. You are going to comment on a poem about programming languages in Korean.\",\n",
    "        ),\n",
    "        (\"human\", \"{haikus}\"),\n",
    "    ]\n",
    ")\n",
    "\n",
    "\n",
    "commentator_chain = commentator_prompt | chat\n",
    "\n",
    "\n",
    "final_chain = {\"haikus\": haikus_chain} | commentator_chain\n",
    "\n",
    "final_chain.invoke({\"language\": \"경상도 python\"})"
   ]
  }
 ],
 "metadata": {
  "kernelspec": {
   "display_name": "env",
   "language": "python",
   "name": "python3"
  },
  "language_info": {
   "codemirror_mode": {
    "name": "ipython",
    "version": 3
   },
   "file_extension": ".py",
   "mimetype": "text/x-python",
   "name": "python",
   "nbconvert_exporter": "python",
   "pygments_lexer": "ipython3",
   "version": "3.11.6"
  }
 },
 "nbformat": 4,
 "nbformat_minor": 2
}
