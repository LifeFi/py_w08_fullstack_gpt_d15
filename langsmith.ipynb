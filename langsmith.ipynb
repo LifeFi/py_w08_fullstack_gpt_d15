{
 "cells": [
  {
   "cell_type": "code",
   "execution_count": 35,
   "metadata": {},
   "outputs": [
    {
     "name": "stdout",
     "output_type": "stream",
     "text": [
      "Client (API URL: https://api.smith.langchain.com)\n",
      "https://smith.langchain.com\n",
      "https://api.smith.langchain.com\n"
     ]
    }
   ],
   "source": [
    "from langsmith import Client\n",
    "from dotenv import load_dotenv\n",
    "\n",
    "load_dotenv()\n",
    "client = Client()\n",
    "\n",
    "print(client)\n",
    "print(client._host_url)\n",
    "print(client.api_url)\n",
    "\n",
    "\n",
    "# list_runs = client.list_runs(project_name=\"default\")\n",
    "# print(next(list_runs).url)\n",
    "\n",
    "# url = next(client.list_runs(project_name=\"default\")).url\n",
    "# print(url)"
   ]
  }
 ],
 "metadata": {
  "language_info": {
   "name": "python"
  }
 },
 "nbformat": 4,
 "nbformat_minor": 2
}
