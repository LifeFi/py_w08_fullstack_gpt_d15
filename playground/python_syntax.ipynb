{
 "cells": [
  {
   "cell_type": "code",
   "execution_count": 1,
   "metadata": {},
   "outputs": [
    {
     "name": "stdout",
     "output_type": "stream",
     "text": [
      "{'key1': 'hi', 'key2': 'there', 'key3': 'world'}\n",
      "1 2 3\n",
      "1\n",
      "2\n",
      "3\n",
      "{'나', '가', '다'}\n",
      "나 가 다\n",
      "나\n",
      "가\n",
      "다\n",
      "('key1', 'hi')\n",
      "key1\n",
      "('key2', 'there')\n",
      "key2\n",
      "('key3', 'world')\n",
      "key3\n",
      "{'key1': 'hi', 'key2': 'there', 'key3': 'world'}\n",
      "key: key1, value: hi\n",
      "key: key2, value: there\n",
      "key: key3, value: world\n",
      "(1, 2, 1)\n",
      "('나', '가', '다')\n"
     ]
    }
   ],
   "source": [
    "dic_a = {\"key1\": \"hi\", \"key2\": \"there\", \"key3\": \"world\"}\n",
    "\n",
    "print(dic_a)\n",
    "\n",
    "\n",
    "list_b = [1, 2, 3]\n",
    "print(*list_b)\n",
    "for item in list_b:\n",
    "    print(item)\n",
    "\n",
    "set_c = {\"가\", \"나\", \"다\"}\n",
    "print(set_c)\n",
    "print(*set_c)\n",
    "for item in set_c:\n",
    "    print(item)\n",
    "\n",
    "\n",
    "for item in dic_a.items():\n",
    "    print(item)\n",
    "    print(item[0])\n",
    "\n",
    "\n",
    "def func_a(*args):\n",
    "    print(args)\n",
    "\n",
    "\n",
    "def func_b(**kwargs):\n",
    "    print(kwargs)\n",
    "    for key, value in kwargs.items():\n",
    "        print(f\"key: {key}, value: {value}\")\n",
    "\n",
    "\n",
    "func_b(**dic_a)\n",
    "func_a(*[1, 2, 1])\n",
    "func_a(*set_c)"
   ]
  },
  {
   "cell_type": "code",
   "execution_count": 2,
   "metadata": {},
   "outputs": [
    {
     "name": "stdout",
     "output_type": "stream",
     "text": [
      "1\n",
      "[2, 3, 4]\n",
      "5\n",
      "1\n",
      "[2, 3, 4]\n",
      "5\n"
     ]
    }
   ],
   "source": [
    "first, *middle, last = [1, 2, 3, 4, 5]\n",
    "print(first)  # 1\n",
    "print(middle)  # [2, 3, 4]\n",
    "print(last)  # 5\n",
    "\n",
    "\n",
    "one, *mid, three = (1, 2, 3, 4, 5)\n",
    "print(one)  # 1\n",
    "print(mid)  # [2, 3, 4]\n",
    "print(three)  # 5"
   ]
  },
  {
   "cell_type": "code",
   "execution_count": 4,
   "metadata": {},
   "outputs": [
    {
     "name": "stdout",
     "output_type": "stream",
     "text": [
      "func\n",
      "\n",
      "    docstring 입니다.\n",
      "    \n",
      "(1, 2)\n",
      "{'j': 10}\n",
      "{'x': <class 'int'>, 'y': <class 'int'>, 'z': <class 'int'>, 'j': <class 'int'>, 'return': <class 'bool'>}\n",
      "<code object func at 0x106700930, file \"/var/folders/s6/ps8t_z0s41q4vy0wpqqg740m0000gn/T/ipykernel_25512/3252296538.py\", line 1>\n"
     ]
    }
   ],
   "source": [
    "def func(x: int, y: int = 1, z: int = 2, *, j: int = 10) -> bool:\n",
    "    \"\"\"\n",
    "    docstring 입니다.\n",
    "    \"\"\"\n",
    "    pass\n",
    "\n",
    "\n",
    "print(func.__name__)\n",
    "print(func.__doc__)\n",
    "print(func.__defaults__)\n",
    "print(func.__kwdefaults__)\n",
    "print(func.__annotations__)\n",
    "print(func.__code__)\n",
    "print(func.__module__)"
   ]
  }
 ],
 "metadata": {
  "kernelspec": {
   "display_name": "env",
   "language": "python",
   "name": "python3"
  },
  "language_info": {
   "codemirror_mode": {
    "name": "ipython",
    "version": 3
   },
   "file_extension": ".py",
   "mimetype": "text/x-python",
   "name": "python",
   "nbconvert_exporter": "python",
   "pygments_lexer": "ipython3",
   "version": "3.11.6"
  }
 },
 "nbformat": 4,
 "nbformat_minor": 2
}
