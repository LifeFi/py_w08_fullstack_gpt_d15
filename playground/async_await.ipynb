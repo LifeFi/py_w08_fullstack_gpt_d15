{
 "cells": [
  {
   "cell_type": "code",
   "execution_count": null,
   "metadata": {},
   "outputs": [],
   "source": []
  },
  {
   "cell_type": "code",
   "execution_count": 27,
   "metadata": {},
   "outputs": [
    {
     "name": "stdout",
     "output_type": "stream",
     "text": [
      "start\n",
      "done!\n"
     ]
    }
   ],
   "source": [
    "import asyncio\n",
    "\n",
    "print(\"root start\")\n",
    "# 쥬피터는 최상위에서 await 사용 가능하다.\n",
    "await asyncio.sleep(2)\n",
    "\n",
    "\n",
    "async def main():\n",
    "    print(\"main start\")\n",
    "    await asyncio.sleep(1)\n",
    "    print(\"main end\")\n",
    "\n",
    "\n",
    "asyncio.run(main())"
   ]
  },
  {
   "cell_type": "code",
   "execution_count": 33,
   "metadata": {},
   "outputs": [
    {
     "name": "stdout",
     "output_type": "stream",
     "text": [
      "async_await.ipynb  playground.ipynb\n"
     ]
    },
    {
     "data": {
      "text/plain": [
       "'/Users/topcircle/Documents/GitHub/py_w08_fullstack_gpt_d15/playground'"
      ]
     },
     "execution_count": 33,
     "metadata": {},
     "output_type": "execute_result"
    }
   ],
   "source": []
  },
  {
   "cell_type": "code",
   "execution_count": null,
   "metadata": {},
   "outputs": [],
   "source": []
  },
  {
   "cell_type": "code",
   "execution_count": null,
   "metadata": {},
   "outputs": [],
   "source": []
  }
 ],
 "metadata": {
  "kernelspec": {
   "display_name": "env",
   "language": "python",
   "name": "python3"
  },
  "language_info": {
   "codemirror_mode": {
    "name": "ipython",
    "version": 3
   },
   "file_extension": ".py",
   "mimetype": "text/x-python",
   "name": "python",
   "nbconvert_exporter": "python",
   "pygments_lexer": "ipython3",
   "version": "3.11.6"
  }
 },
 "nbformat": 4,
 "nbformat_minor": 2
}
