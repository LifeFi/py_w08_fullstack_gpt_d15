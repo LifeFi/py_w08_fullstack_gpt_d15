{
 "cells": [
  {
   "cell_type": "code",
   "execution_count": 1,
   "metadata": {},
   "outputs": [
    {
     "data": {
      "text/plain": [
       "AIMessage(content=\"Hello! I'm just a computer program, so I don't have feelings, but I'm here and ready to help you with anything you need. How can I assist you today?\")"
      ]
     },
     "execution_count": 1,
     "metadata": {},
     "output_type": "execute_result"
    }
   ],
   "source": [
    "from langchain.chat_models import ChatOpenAI\n",
    "\n",
    "\n",
    "llm = ChatOpenAI(\n",
    "    temperature=0.2,\n",
    ")\n",
    "\n",
    "res = llm.predict(\"Hello, how are you?\")\n",
    "\n",
    "res = llm.invoke(\"Hello, how are you?\")\n",
    "\n",
    "\n",
    "res"
   ]
  },
  {
   "cell_type": "markdown",
   "metadata": {},
   "source": [
    "\n"
   ]
  },
  {
   "cell_type": "markdown",
   "metadata": {},
   "source": []
  },
  {
   "cell_type": "code",
   "execution_count": null,
   "metadata": {},
   "outputs": [],
   "source": [
    "import re\n",
    "\n",
    "e_str = \"error api-key: dddsdsd\"\n",
    "\n",
    "match = re.search(r\"(?!(api)(_|-|\\s)(key))\", e_str)\n",
    "if match:\n",
    "    print(match)\n",
    "else:\n",
    "    print(\"no match\")\n",
    "\n",
    "\n",
    "if r\"api(-)key\" in \"error api-key: dddsdsd\":\n",
    "    print(\"yes\")\n",
    "else:\n",
    "    print(\"no\")\n",
    "\n",
    "\n",
    "result = \"hello im a boy 123s\".replace(r\"\\d\", \"s\")\n",
    "print(result)"
   ]
  },
  {
   "cell_type": "markdown",
   "metadata": {},
   "source": [
    "\n",
    "\n",
    "\n",
    "\n"
   ]
  },
  {
   "cell_type": "code",
   "execution_count": null,
   "metadata": {},
   "outputs": [],
   "source": [
    "string = \"http://www.example.com/1234.xml\"\n",
    "\n",
    "result = string.split(\"://\")[1].split(\"/\")[0]\n",
    "print(result)\n",
    "print(string)\n",
    "\n",
    "re.search(\n",
    "    r\"(ai-gateway|vectorize|workers-ai)\",\n",
    "    \"https://vectorizedevelopers.cloudflare.com/ai-gateway/ai-gateway\",\n",
    ")"
   ]
  },
  {
   "cell_type": "code",
   "execution_count": null,
   "metadata": {},
   "outputs": [],
   "source": [
    "string1 = \"developers.cloudflare.com\"\n",
    "string2 = \"developers.cloudflare.com_sitemap####\"\n",
    "\n",
    "if string1 in string2:\n",
    "    print(True)"
   ]
  },
  {
   "cell_type": "code",
   "execution_count": null,
   "metadata": {},
   "outputs": [],
   "source": [
    "import openai"
   ]
  }
 ],
 "metadata": {
  "kernelspec": {
   "display_name": "env",
   "language": "python",
   "name": "python3"
  },
  "language_info": {
   "codemirror_mode": {
    "name": "ipython",
    "version": 3
   },
   "file_extension": ".py",
   "mimetype": "text/x-python",
   "name": "python",
   "nbconvert_exporter": "python",
   "pygments_lexer": "ipython3",
   "version": "3.11.6"
  }
 },
 "nbformat": 4,
 "nbformat_minor": 2
}
